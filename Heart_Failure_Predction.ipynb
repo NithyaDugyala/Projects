{
  "nbformat": 4,
  "nbformat_minor": 0,
  "metadata": {
    "colab": {
      "provenance": [],
      "authorship_tag": "ABX9TyM3Fmi42utac/W96gvzWgsc",
      "include_colab_link": true
    },
    "kernelspec": {
      "name": "python3",
      "display_name": "Python 3"
    },
    "language_info": {
      "name": "python"
    }
  },
  "cells": [
    {
      "cell_type": "markdown",
      "metadata": {
        "id": "view-in-github",
        "colab_type": "text"
      },
      "source": [
        "<a href=\"https://colab.research.google.com/github/NithyaDugyala/Projects/blob/main/Heart_Failure_Predction.ipynb\" target=\"_parent\"><img src=\"https://colab.research.google.com/assets/colab-badge.svg\" alt=\"Open In Colab\"/></a>"
      ]
    },
    {
      "cell_type": "markdown",
      "source": [
        " D.Nithya"
      ],
      "metadata": {
        "id": "liFLQy-vEvVl"
      }
    },
    {
      "cell_type": "markdown",
      "source": [
        "# Logistic Regression"
      ],
      "metadata": {
        "id": "xfT46dEJi4jh"
      }
    },
    {
      "cell_type": "code",
      "source": [
        "import pandas as pd\n",
        "from sklearn.model_selection import train_test_split\n",
        "from sklearn.preprocessing import StandardScaler, LabelEncoder\n",
        "from sklearn.linear_model import LogisticRegression\n",
        "from sklearn.metrics import accuracy_score, classification_report, confusion_matrix\n",
        "\n",
        "file_path = '/content/heart.csv'\n",
        "data = pd.read_csv(file_path)\n",
        "print(data.head())\n",
        "\n",
        "label_encoder = LabelEncoder()\n",
        "\n",
        "categorical_columns = ['ChestPainType', 'RestingECG', 'ExerciseAngina', 'ST_Slope', 'Sex']\n",
        "for col in categorical_columns:\n",
        "    data[col] = label_encoder.fit_transform(data[col])\n",
        "\n",
        "X = data.drop('HeartDisease', axis=1)\n",
        "y = data['HeartDisease']\n",
        "X_train, X_test, y_train, y_test = train_test_split(X, y, test_size=0.3, random_state=42)\n",
        "scaler = StandardScaler()\n",
        "X_train = scaler.fit_transform(X_train)\n",
        "X_test = scaler.transform(X_test)\n",
        "logistic_regression_model = LogisticRegression(max_iter=1000, random_state=42)\n",
        "logistic_regression_model.fit(X_train, y_train)\n",
        "y_pred = logistic_regression_model.predict(X_test)\n",
        "accuracy = accuracy_score(y_test, y_pred)\n",
        "print(f'Accuracy: {accuracy * 100:.2f}%')\n",
        "print('Classification Report:')\n",
        "print(classification_report(y_test, y_pred))\n",
        "\n",
        "print('Confusion Matrix:')\n",
        "print(confusion_matrix(y_test, y_pred))\n"
      ],
      "metadata": {
        "colab": {
          "base_uri": "https://localhost:8080/"
        },
        "id": "mBlfmlQH6tZV",
        "outputId": "33acd20b-3553-4ff2-f09a-dbf894839a23"
      },
      "execution_count": null,
      "outputs": [
        {
          "output_type": "stream",
          "name": "stdout",
          "text": [
            "   Age Sex ChestPainType  RestingBP  Cholesterol  FastingBS RestingECG  MaxHR  \\\n",
            "0   40   M           ATA        140          289          0     Normal    172   \n",
            "1   49   F           NAP        160          180          0     Normal    156   \n",
            "2   37   M           ATA        130          283          0         ST     98   \n",
            "3   48   F           ASY        138          214          0     Normal    108   \n",
            "4   54   M           NAP        150          195          0     Normal    122   \n",
            "\n",
            "  ExerciseAngina  Oldpeak ST_Slope  HeartDisease  \n",
            "0              N      0.0       Up             0  \n",
            "1              N      1.0     Flat             1  \n",
            "2              N      0.0       Up             0  \n",
            "3              Y      1.5     Flat             1  \n",
            "4              N      0.0       Up             0  \n",
            "Accuracy: 87.68%\n",
            "Classification Report:\n",
            "              precision    recall  f1-score   support\n",
            "\n",
            "           0       0.82      0.89      0.85       112\n",
            "           1       0.92      0.87      0.89       164\n",
            "\n",
            "    accuracy                           0.88       276\n",
            "   macro avg       0.87      0.88      0.87       276\n",
            "weighted avg       0.88      0.88      0.88       276\n",
            "\n",
            "Confusion Matrix:\n",
            "[[100  12]\n",
            " [ 22 142]]\n"
          ]
        }
      ]
    },
    {
      "cell_type": "markdown",
      "source": [
        "# KNN with Euclidean distance"
      ],
      "metadata": {
        "id": "xttuoeVRjLEZ"
      }
    },
    {
      "cell_type": "code",
      "source": [
        "import pandas as pd\n",
        "import numpy as np\n",
        "from sklearn.model_selection import train_test_split\n",
        "\n",
        "file_path = '/content/heart.csv'\n",
        "data = pd.read_csv(file_path)\n",
        "\n",
        "\n",
        "numerical_features = ['Age', 'RestingBP', 'Cholesterol', 'FastingBS', 'MaxHR', 'Oldpeak']\n",
        "X = data[numerical_features].values\n",
        "y = data['HeartDisease'].values\n",
        "\n",
        "X_train, X_test, y_train, y_test = train_test_split(X, y, test_size=0.3, random_state=42)\n",
        "\n",
        "def euclidean_distance(point1, point2):\n",
        "    return np.sqrt(np.sum((point1 - point2) ** 2))\n",
        "\n",
        "def knn(X_train, y_train, query_point, k=5):\n",
        "    distances = []\n",
        "    for i in range(len(X_train)):\n",
        "        distance = euclidean_distance(query_point, X_train[i])\n",
        "        distances.append((distance, y_train[i]))\n",
        "\n",
        "\n",
        "    distances = sorted(distances, key=lambda x: x[0])\n",
        "    nearest_neighbors = distances[:k]\n",
        "\n",
        "    classes = [neighbor[1] for neighbor in nearest_neighbors]\n",
        "    prediction = max(set(classes), key=classes.count)\n",
        "\n",
        "    return prediction\n",
        "\n",
        "\n",
        "def calculate_accuracy(X_train, y_train, X_test, y_test, k=5):\n",
        "    correct_predictions = 0\n",
        "    for i in range(len(X_test)):\n",
        "        prediction = knn(X_train, y_train, X_test[i], k)\n",
        "        if prediction == y_test[i]:\n",
        "            correct_predictions += 1\n",
        "    accuracy = correct_predictions / len(y_test)\n",
        "    return accuracy\n",
        "\n",
        "\n",
        "k = 5\n",
        "accuracy = calculate_accuracy(X_train, y_train, X_test, y_test, k)\n",
        "print(f\"Accuracy of KNN with k={k}: {accuracy * 100:.2f}%\")\n"
      ],
      "metadata": {
        "colab": {
          "base_uri": "https://localhost:8080/"
        },
        "id": "N7NpWu8YEQYs",
        "outputId": "b49ff1e0-ce88-4d2f-8850-83dc7d5946e8"
      },
      "execution_count": null,
      "outputs": [
        {
          "output_type": "stream",
          "name": "stdout",
          "text": [
            "Accuracy of KNN with k=5: 71.74%\n"
          ]
        }
      ]
    },
    {
      "cell_type": "markdown",
      "source": [
        "# Decision Tree"
      ],
      "metadata": {
        "id": "WeZzRcX_jY3U"
      }
    },
    {
      "cell_type": "code",
      "source": [
        "import pandas as pd\n",
        "from sklearn.model_selection import train_test_split\n",
        "from sklearn.preprocessing import LabelEncoder, StandardScaler\n",
        "from sklearn.tree import DecisionTreeClassifier\n",
        "from sklearn.metrics import accuracy_score\n",
        "\n",
        "\n",
        "data = pd.read_csv('/content/heart.csv')\n",
        "\n",
        "\n",
        "for column in data.select_dtypes(include='object').columns:\n",
        "    data[column] = LabelEncoder().fit_transform(data[column])\n",
        "\n",
        "\n",
        "X = data.drop(\"HeartDisease\", axis=1)\n",
        "y = data[\"HeartDisease\"]\n",
        "\n",
        "\n",
        "X_train, X_test, y_train, y_test = train_test_split(X, y, test_size=0.2, random_state=42)\n",
        "\n",
        "scaler = StandardScaler()\n",
        "X_train = scaler.fit_transform(X_train)\n",
        "X_test = scaler.transform(X_test)\n",
        "\n",
        "clf = DecisionTreeClassifier(random_state=42)\n",
        "clf.fit(X_train, y_train)\n",
        "\n",
        "y_pred = clf.predict(X_test)\n",
        "\n",
        "accuracy = accuracy_score(y_test, y_pred)\n",
        "print(\"Decision Tree accuracy:\", accuracy)"
      ],
      "metadata": {
        "colab": {
          "base_uri": "https://localhost:8080/"
        },
        "id": "dm1EKdrYj4f6",
        "outputId": "0f443a7d-239b-4e19-ce47-eeace65443de"
      },
      "execution_count": null,
      "outputs": [
        {
          "output_type": "stream",
          "name": "stdout",
          "text": [
            "Decision Tree accuracy: 0.7880434782608695\n"
          ]
        }
      ]
    },
    {
      "cell_type": "markdown",
      "source": [
        "# SVM"
      ],
      "metadata": {
        "id": "RGXFL2wQofGE"
      }
    },
    {
      "cell_type": "code",
      "source": [
        "import pandas as pd\n",
        "from sklearn.model_selection import train_test_split\n",
        "from sklearn.svm import SVC\n",
        "from sklearn.metrics import accuracy_score\n",
        "from sklearn.preprocessing import LabelEncoder\n",
        "\n",
        "data = pd.read_csv('/content/heart.csv')\n",
        "\n",
        "\n",
        "categorical_cols = ['Sex', 'ChestPainType', 'RestingECG', 'ExerciseAngina', 'ST_Slope']\n",
        "label_encoders = {col: LabelEncoder() for col in categorical_cols}\n",
        "\n",
        "for col in categorical_cols:\n",
        "    data[col] = label_encoders[col].fit_transform(data[col])\n",
        "\n",
        "X = data.drop(columns='HeartDisease')\n",
        "y = data['HeartDisease']\n",
        "\n",
        "X_train, X_test, y_train, y_test = train_test_split(X, y, test_size=0.3, random_state=42)\n",
        "\n",
        "svm_model = SVC()\n",
        "\n",
        "svm_model.fit(X_train, y_train)\n",
        "\n",
        "y_pred = svm_model.predict(X_test)\n",
        "\n",
        "accuracy = accuracy_score(y_test, y_pred)\n",
        "\n",
        "print(f'Accuracy of SVM model: {accuracy * 100:.2f}%')\n"
      ],
      "metadata": {
        "colab": {
          "base_uri": "https://localhost:8080/"
        },
        "id": "ToMcXRsglucq",
        "outputId": "81b3a8aa-3ced-4f77-aa7f-83bfaa765596"
      },
      "execution_count": null,
      "outputs": [
        {
          "output_type": "stream",
          "name": "stdout",
          "text": [
            "Accuracy of SVM model: 72.46%\n"
          ]
        }
      ]
    }
  ]
}